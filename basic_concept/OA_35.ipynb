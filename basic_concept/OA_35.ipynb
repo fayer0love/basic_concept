{
 "cells": [
  {
   "cell_type": "markdown",
   "metadata": {},
   "source": [
    "#### 1. Find the Median of the subarray that contains values less than or equal to k"
   ]
  },
  {
   "cell_type": "code",
   "execution_count": 1,
   "metadata": {
    "collapsed": false
   },
   "outputs": [],
   "source": [
    "a = [9,8,7,6,5,4,3,2,1]; k = 3\n",
    "b = [8,7,6,5,4,3,2,1]"
   ]
  },
  {
   "cell_type": "code",
   "execution_count": 5,
   "metadata": {
    "collapsed": false
   },
   "outputs": [
    {
     "name": "stdout",
     "output_type": "stream",
     "text": [
      "5\n",
      "4.5\n"
     ]
    }
   ],
   "source": [
    "def f(lst, target):\n",
    "    left = 0; right = len(lst) - 1\n",
    "    idx = 0\n",
    "    while left < right:\n",
    "        mid = (left + right) // 2\n",
    "        if lst[mid] < k:\n",
    "            left = mid\n",
    "        elif lst[mid] > k:\n",
    "            right = mid\n",
    "        else:\n",
    "            idx = mid\n",
    "            break\n",
    "            \n",
    "    mid_new = (len(lst) - 1 + idx) // 2\n",
    "    \n",
    "    if (len(lst) - idx)%2 == 0:\n",
    "        ans = 1.0 * (lst[mid_new] + lst[mid_new+1]) / 2\n",
    "    else:\n",
    "        ans = lst[mid_new]\n",
    "  \n",
    "    return ans\n",
    "\n",
    "print (f(a, k))\n",
    "print (f(b, k))"
   ]
  },
  {
   "cell_type": "markdown",
   "metadata": {},
   "source": [
    "#### 2. sum of odd idx and mean"
   ]
  },
  {
   "cell_type": "code",
   "execution_count": 9,
   "metadata": {
    "collapsed": false
   },
   "outputs": [
    {
     "name": "stdout",
     "output_type": "stream",
     "text": [
      "[[1, 1, 0, 1], [1, 0, 1, 0]]\n"
     ]
    }
   ],
   "source": [
    "ma = [[1,0],[0,1],[1,0],[1,1]]\n",
    "\n",
    "\n",
    "def f2(mat):\n",
    "    m = len(mat)\n",
    "    n = len(mat[0])\n",
    "    return [[mat[m-1-i][j] for i in xrange(m)] for j in xrange(n)]\n",
    "            \n",
    "print (f2(ma))\n"
   ]
  },
  {
   "cell_type": "markdown",
   "metadata": {},
   "source": [
    "#### 4. Return Pair(first, second), first = sum of values with odd idx, second = first / num of odd idx"
   ]
  },
  {
   "cell_type": "code",
   "execution_count": 17,
   "metadata": {
    "collapsed": false
   },
   "outputs": [
    {
     "name": "stdout",
     "output_type": "stream",
     "text": [
      "(12, 4)\n",
      "(6, 3)\n",
      "()\n"
     ]
    }
   ],
   "source": [
    "a4 = [1,2,3,4,5,6,7]\n",
    "b4 = [1,2,3,4]\n",
    "c4 = []\n",
    "def f4(arr): \n",
    "    if arr == []:\n",
    "        return ()\n",
    "    length = len(arr)\n",
    "    first = sum([arr[i] for i in range(length) if i % 2 != 0])\n",
    "    return first, first // (length//2)\n",
    "\n",
    "print (f4(a4))\n",
    "print (f4(b4))\n",
    "print (f4(c4))"
   ]
  },
  {
   "cell_type": "markdown",
   "metadata": {},
   "source": [
    "#### 5. Del all nums appeared n times and return rest of list"
   ]
  },
  {
   "cell_type": "code",
   "execution_count": 20,
   "metadata": {
    "collapsed": false
   },
   "outputs": [
    {
     "name": "stdout",
     "output_type": "stream",
     "text": [
      "[1, 1, 1, 1, 2, 2, 2, 2, 3, 3, 3, 4, 5, 6, 7]\n"
     ]
    }
   ],
   "source": [
    "a5 = [1,1,1,1,2,2,2,2,3,3,3,4,5,6,7]\n",
    "def f5(arr, n):\n",
    "    length = len(arr)\n",
    "    time = {}\n",
    "    for i in range(length):\n",
    "        if arr[i] in time:\n",
    "            time[arr[i]] = time.get(arr[i]) + 1\n",
    "        else:\n",
    "            time.update({arr[i]:1})\n",
    "    ans = []   \n",
    "    for i in range(length):\n",
    "        if time.get(arr[i]) != n:\n",
    "            ans.append(arr[i])\n",
    "    return ans\n",
    "\n",
    "print (f5(a5, 5))"
   ]
  },
  {
   "cell_type": "markdown",
   "metadata": {},
   "source": [
    "#### 6. Sum and average from a list, return the sum and average of odd idx"
   ]
  },
  {
   "cell_type": "code",
   "execution_count": 23,
   "metadata": {
    "collapsed": false
   },
   "outputs": [
    {
     "name": "stdout",
     "output_type": "stream",
     "text": [
      "(17, 2)\n"
     ]
    }
   ],
   "source": [
    "a6 = [1,1,1,1,2,2,2,2,3,3,3,4,5]\n",
    "def f6(arr):\n",
    "    ans = [arr[i] for i in range(len(arr)) if i % 2 == 0]\n",
    "    return sum(ans), sum(ans)//len(ans)\n",
    "print (f6(a6))"
   ]
  },
  {
   "cell_type": "markdown",
   "metadata": {},
   "source": [
    "#### 7. Second most appeared item"
   ]
  },
  {
   "cell_type": "code",
   "execution_count": 26,
   "metadata": {
    "collapsed": false
   },
   "outputs": [
    {
     "name": "stdout",
     "output_type": "stream",
     "text": [
      "[3, 4, 5]\n"
     ]
    }
   ],
   "source": [
    "a7 = [2,2,1,1,1,2,3,4,3,4,5]\n",
    "a71 = [1,1,2,2,3,4,5]\n",
    "def f7(arr):\n",
    "    if arr == []:\n",
    "        return []\n",
    "    length = len(arr)\n",
    "    feq = {}\n",
    "    for i in range(length):\n",
    "        if arr[i] in feq:\n",
    "            feq[arr[i]] = feq.get(arr[i]) + 1\n",
    "        else:\n",
    "            feq.update({arr[i]: 1})\n",
    "            \n",
    "#     feq = {x:arr.count(x) for x in arr} // O(n^2)  \n",
    "\n",
    "#     inv_map = {}\n",
    "#     for k, v in feq.iteritems():\n",
    "#         inv_map[v] = inv_map.get(v, [])\n",
    "#         inv_map[v].append(k)\n",
    "    \n",
    "    inv_map = {}\n",
    "    for k, v in feq.items():\n",
    "        inv_map.setdefault(v, []).append(k)\n",
    "    \n",
    "#     del(inv_map[max(inv_map)])\n",
    "#     if inv_map == {}:\n",
    "#         return []\n",
    "#     return inv_map[max(inv_map)]\n",
    "        \n",
    "    \n",
    "    if len(inv_map) < 2:\n",
    "        return []\n",
    "    feq_max = max(inv_map)\n",
    "    ans_idx = max(idx for idx in inv_map if idx != feq_max)\n",
    "    return inv_map[ans_idx]\n",
    "        \n",
    "    \n",
    "\n",
    "print (f7(a71))"
   ]
  },
  {
   "cell_type": "code",
   "execution_count": 30,
   "metadata": {
    "collapsed": false
   },
   "outputs": [
    {
     "name": "stdout",
     "output_type": "stream",
     "text": [
      "[2]\n"
     ]
    }
   ],
   "source": [
    "a7 = [1,2,3,1,3]\n",
    "def f7_2(arr):\n",
    "    \n",
    "    length = len(arr)\n",
    "    feq = {}\n",
    "    for i in range(length):\n",
    "        if arr[i] in feq:\n",
    "            feq[arr[i]] = feq.get(arr[i]) + 1\n",
    "        else:\n",
    "            feq.update({arr[i]: 1})\n",
    "    \n",
    "    m1 = -1; m2 = -2; k1 = []; k2 = []\n",
    "    for k, v in feq.items():\n",
    "        if v >= m1:\n",
    "            if v == m1:\n",
    "                k1.append(k)\n",
    "            else:\n",
    "                k2 = k1\n",
    "                k1 = []\n",
    "                k1.append(k)\n",
    "                m2 = m1\n",
    "                m1 = v\n",
    "        elif v >= m2:\n",
    "            if v == m2:\n",
    "                k2.append(k)\n",
    "            else:\n",
    "                k2 = []\n",
    "                k2.append(k)\n",
    "                m2 = v\n",
    "\n",
    "    return k2\n",
    "\n",
    "print (f7_2(a7))"
   ]
  },
  {
   "cell_type": "markdown",
   "metadata": {},
   "source": [
    "#### 8. Return closest sum of target in array"
   ]
  },
  {
   "cell_type": "code",
   "execution_count": 32,
   "metadata": {
    "collapsed": false
   },
   "outputs": [
    {
     "name": "stdout",
     "output_type": "stream",
     "text": [
      "8\n"
     ]
    }
   ],
   "source": [
    "a8 = [1,1,3,4,4,6,22]; target = 5\n",
    "def f8(arr, target):\n",
    "    if arr == None or len(arr) < 2:\n",
    "        return None\n",
    "\n",
    "    ans1 = min(arr, key=lambda x:abs(x-target))\n",
    "    arr.remove(ans1)\n",
    "    ans2 = min(arr, key=lambda y:abs(y-target))\n",
    "    return ans1 + ans2  \n",
    "    \n",
    "print (f8(a8, target))"
   ]
  },
  {
   "cell_type": "markdown",
   "metadata": {
    "collapsed": true
   },
   "source": [
    "#### 9. n x n grid and two pair of points (A, B) and (P, Q). if Crossing\n",
    "##### (0 ,0) -- top-left corner; (n, n) -- bottom-right corner"
   ]
  },
  {
   "cell_type": "code",
   "execution_count": 33,
   "metadata": {
    "collapsed": false,
    "scrolled": true
   },
   "outputs": [],
   "source": [
    "class solution_original(object):\n",
    "    def f9(self, xa, ya, xb, yb, xp, yp, xq, yq, size):\n",
    "        n = size\n",
    "        def isInRange(x):\n",
    "\n",
    "            if x < 0 or x > n:\n",
    "                return False\n",
    "            return True     \n",
    "\n",
    "        def isSamePoint(aA, aB):\n",
    "\n",
    "            if aA[0] == aB[0] and aA[1] == aB[1]:\n",
    "                return True\n",
    "            return False\n",
    "\n",
    "        def isOnBorder(aA):\n",
    "\n",
    "            axis_x = aA[0]\n",
    "            axis_y = aA[1]\n",
    "            if axis_x == 0 or axis_y == 0 or axis_x == n or axis_y == n:\n",
    "                return True\n",
    "            return False\n",
    "\n",
    "    #     def ccw(aA,aB,aC):\n",
    "    #         return (aC[1]-aA[1]) * (aB[0]-aA[0]) > (aB[1]-aA[1]) * (aC[0]-aA[0])\n",
    "\n",
    "    #     # Return true if line segments AB and CD intersect\n",
    "    #     def isIntersect(aA,aB,aC,aD):\n",
    "    #         return ccw(aA,aC,aD) != ccw(aB,aC,aD) and ccw(aA,aB,aC) != ccw(aA,aB,aD)\n",
    "\n",
    "\n",
    "        def onSegment(aA,aB,aC):\n",
    "\n",
    "            if aB[0] <= max(aA[0], aC[0]) and aB[0] >= min(aA[0], aC[0]) and aB[1] <= max(aA[1], aC[1]) and aB[1] >= min(aA[1], aC[1]):\n",
    "                return True\n",
    "            return False\n",
    "\n",
    "        def orientation(p,q,r):\n",
    "\n",
    "            val = (q[1] - p[1]) * (r[0] - q[0]) - (q[0] - p[0]) * (r[1] - q[1])\n",
    "            if val == 0:\n",
    "                return 0  # colinear\n",
    "            elif val > 0:\n",
    "                return 1  # clock\n",
    "            else: \n",
    "                return 2 # counterclock wise\n",
    "\n",
    "\n",
    "        # The main function that returns true if line segment 'p1q1'\n",
    "        # and 'p2q2' intersect.\n",
    "        def isIntersect1(p1,q1,p2,q2):\n",
    "\n",
    "        #  Find the four orientations needed for general and\n",
    "        #  special cases\n",
    "            o1 = orientation(p1, q1, p2)\n",
    "            o2 = orientation(p1, q1, q2)\n",
    "            o3 = orientation(p2, q2, p1)\n",
    "            o4 = orientation(p2, q2, q1)\n",
    "        #  General case\n",
    "            if o1 != o2 and o3 != o4:\n",
    "                return True\n",
    "        #  Special Cases\n",
    "        #  p1, q1 and p2 are colinear and p2 lies on segment p1q1\n",
    "            if (o1 == 0 and onSegment(p1, p2, q1)): \n",
    "                return True\n",
    "        #  p1, q1 and p2 are colinear and q2 lies on segment p1q1\n",
    "            if (o2 == 0 and onSegment(p1, q2, q1)): \n",
    "                return True\n",
    "        #  p2, q2 and p1 are colinear and p1 lies on segment p2q2\n",
    "            if (o3 == 0 and onSegment(p2, p1, q2)): \n",
    "                return True\n",
    "        #  p2, q2 and q1 are colinear and q1 lies on segment p2q2\n",
    "            if (o4 == 0 and onSegment(p2, q1, q2)): \n",
    "                return True\n",
    "            return False\n",
    "\n",
    "\n",
    "        def xyDist(aA, aB):\n",
    "\n",
    "            return abs(aA[0]-aB[0]), abs(aA[1]-aB[1])\n",
    "\n",
    "\n",
    "        A = [xa, ya]\n",
    "        B = [xb, yb]\n",
    "        P = [xp, yp]\n",
    "        Q = [xq, yq]\n",
    "        points = [A, B, P, Q]\n",
    "        pairs_same = [(A, B), (P, Q)]\n",
    "        pairs_diff = [[(A, P), (B, Q)], [(A, Q),(B, P)]]\n",
    "        axis = [xa, ya, xb, yb, xp, yp, xq, yq]\n",
    "\n",
    "        # Out of boundary\n",
    "        for x in axis:\n",
    "            if not isInRange(x):\n",
    "                return False\n",
    "\n",
    "        # Same point \n",
    "\n",
    "        sp_ap = isSamePoint(A, P)\n",
    "        sp_bp = isSamePoint(B, P)\n",
    "        sp_aq = isSamePoint(A, Q)\n",
    "        sp_bq = isSamePoint(B, Q)\n",
    "        sp_ab = isSamePoint(A, B)\n",
    "        sp_pq = isSamePoint(P, Q)\n",
    "\n",
    "        if sp_ap or sp_bp or sp_aq or sp_bq:\n",
    "            return False # not possible without crossing Which is CROSSING\n",
    "        elif sp_ab or sp_pq: # <1>\n",
    "            return True\n",
    "\n",
    "        ## FIRST\n",
    "        # 4 points on the boundary AND cross ==> false\n",
    "        four_on_border = True\n",
    "        for pt in points:\n",
    "            four_on_border = four_on_border and isOnBorder(pt)\n",
    "\n",
    "        if four_on_border and isIntersect1(A,B,P,Q):\n",
    "            return False\n",
    "        ## SECOND\n",
    "        #  3 points at same corner\n",
    "        corner_case1 = [[0,0],[0,1],[1,0]]\n",
    "        corner_case2 = [[0,n],[n-1,n],[1,n]]\n",
    "        corner_case3 = [[n,0],[n,n-1],[n,1]]\n",
    "        corner_case4 = [[n,n],[n-1,n],[n,n-1]]\n",
    "\n",
    "        three_on_corner = False \n",
    "        corner_case = [corner_case1, corner_case2, corner_case3, corner_case4]\n",
    "        for cc in corner_case:\n",
    "            three_on_corner = three_on_corner or all([c in points for c in cc])\n",
    "        if three_on_corner == True:# and not(sp_ab or sp_pq): Can be included but not necessary because <1>\n",
    "            return False\n",
    "\n",
    "        ## SECOND  \n",
    "        # pair < X, Y >    = >  |X.x - Y.x| = 1, |X.y - Y.y| = 1 , where < X, Y > = < A, B > or < P, Q >\n",
    "        # not pair <W, Z>  = >  ( (W.x == Z.x and |W.y - Z.y| == 1) or (W.y == Z.y and |W.x - Z.x| == 1) ) \n",
    "        # \n",
    "        # ( (pair and not pair) AND (W.x == 0/(n) or W.y == 0/(n) or Z.x == 0/(n) or Z.y == 0/(n)) ) == > false\n",
    "        dist_pair_same_valid = True\n",
    "        for pair in pairs_same:\n",
    "            dist_pair_same_valid = dist_pair_same_valid and xyDist(*pair) == (1,1)\n",
    "\n",
    "        dist_pair_diff_valid = True\n",
    "        for pairs in pairs_diff:\n",
    "            for pair in pairs:\n",
    "                dist_pair_diff_valid = dist_pair_diff_valid and (xyDist(*pair) == (0,1) or xyDist(*pair) == (1,0))\n",
    "\n",
    "        one_on_border = False\n",
    "        for pt in points:\n",
    "            one_on_border = one_on_border or isOnBorder(pt)\n",
    "\n",
    "        if dist_pair_same_valid and dist_pair_diff_valid and one_on_border:\n",
    "            return False\n",
    "\n",
    "        return True"
   ]
  },
  {
   "cell_type": "code",
   "execution_count": 37,
   "metadata": {
    "collapsed": false,
    "scrolled": false
   },
   "outputs": [
    {
     "name": "stdout",
     "output_type": "stream",
     "text": [
      "[0, 2] [3, 0]\n",
      "[1, 0]\n"
     ]
    }
   ],
   "source": [
    "a = [0,2]\n",
    "b = [3,0]\n",
    "c = [1,0]\n",
    "n = [4]\n",
    "print (a, b)\n",
    "print (c)\n",
    "# 1,0,2,1,1,1,2,0, 10\n",
    "true = []\n",
    "false = []\n",
    "sol_o = solution_original()\n",
    "def run(d):\n",
    "    a9 = []\n",
    "    abcdn = [a,b,c,d,n]\n",
    "\n",
    "    for item in abcdn:\n",
    "        a9.extend(item)\n",
    "        \n",
    "    if sol_o.f9(*a9):\n",
    "        true.append(d)\n",
    "    else:\n",
    "        false.append(d)\n",
    "\n",
    "\n",
    "for i in range(n[0]+1):\n",
    "    for j in range(n[0]+1):\n",
    "        d = [i,j]\n",
    "        run(d)"
   ]
  },
  {
   "cell_type": "code",
   "execution_count": 39,
   "metadata": {
    "collapsed": false
   },
   "outputs": [
    {
     "name": "stdout",
     "output_type": "stream",
     "text": [
      "[[0, 0], [0, 1], [1, 0], [1, 1], [1, 2], [1, 3], [2, 0], [2, 1], [2, 2], [2, 3], [3, 1], [3, 2], [3, 3]]\n",
      "\n",
      "[[0, 2], [0, 3], [0, 4], [1, 4], [2, 4], [3, 0], [3, 4], [4, 0], [4, 1], [4, 2], [4, 3], [4, 4]]\n"
     ]
    }
   ],
   "source": [
    "print (true)\n",
    "print ()\n",
    "print (false)"
   ]
  },
  {
   "cell_type": "code",
   "execution_count": null,
   "metadata": {
    "collapsed": false
   },
   "outputs": [],
   "source": []
  },
  {
   "cell_type": "code",
   "execution_count": 42,
   "metadata": {
    "collapsed": false
   },
   "outputs": [
    {
     "name": "stdout",
     "output_type": "stream",
     "text": [
      "True\n",
      "True\n",
      "True\n",
      "True\n",
      "True\n",
      "True\n",
      "True\n",
      "True\n"
     ]
    }
   ],
   "source": [
    "a91 = [1,0,2,1,1,1,2,0, 10] # false\n",
    "a92 = [0,2,10,2,5,0,10,5, 10] # false\n",
    "a93 = [1,2,3,4,5,6,7,8, 10] # true\n",
    "a94 = [0,0, 0,0,0,0,0,0, 10] #false\n",
    "a95 = [1, 0, 0, 1, 0, 0, 0, 10, 10] #false\n",
    "a96 = [1,0,0,1,0,0,9,5, 10] # false\n",
    "a97 = [10,0, 10,1, 10,9, 2,2, 10] # false\n",
    "a98 = [1,0,0,1,0,0,0,0, 10] # true\n",
    "print (sol_o.f9(*a91) == False)\n",
    "print (sol_o.f9(*a92) == False)\n",
    "print (sol_o.f9(*a93) == True)\n",
    "print (sol_o.f9(*a94) == False)\n",
    "print (sol_o.f9(*a95) == False)\n",
    "print (sol_o.f9(*a96) == False)\n",
    "print (sol_o.f9(*a97) == False)\n",
    "print (sol_o.f9(*a98) == True)"
   ]
  },
  {
   "cell_type": "code",
   "execution_count": 43,
   "metadata": {
    "collapsed": false
   },
   "outputs": [
    {
     "name": "stdout",
     "output_type": "stream",
     "text": [
      "[[0, 0], [0, 1], [1, 1]]\n",
      "[[0, 10], [1, 10], [9, 10]]\n",
      "[[10, 0], [10, 1], [10, 9]]\n",
      "[[9, 10], [10, 9], [10, 10]]\n"
     ]
    }
   ],
   "source": [
    "n = 10\n",
    "e1 = [[0,0],[0,1],[1,1]]\n",
    "e2 = [[0,n],[n-1,n],[1,n]]\n",
    "e3 = [[n,0],[n,n-1],[n,1]]\n",
    "e4 = [[n,n],[n-1,n],[n,n-1]]\n",
    "print (sorted(e1))\n",
    "print (sorted(e2)) \n",
    "print (sorted(e3)) \n",
    "print (sorted(e4))               "
   ]
  },
  {
   "cell_type": "code",
   "execution_count": null,
   "metadata": {
    "collapsed": false
   },
   "outputs": [],
   "source": []
  },
  {
   "cell_type": "code",
   "execution_count": 44,
   "metadata": {
    "collapsed": false
   },
   "outputs": [],
   "source": [
    "class solution(object):\n",
    "    \n",
    "    def isInRange(self, x, n):\n",
    "\n",
    "        if x < 0 or x > n:\n",
    "            return False\n",
    "        return True     \n",
    "\n",
    "    def isSamePoint(self, aA, aB):\n",
    "\n",
    "        if aA[0] == aB[0] and aA[1] == aB[1]:\n",
    "            return True\n",
    "        return False\n",
    "\n",
    "    def isOnBorder(self, aA, n):\n",
    "\n",
    "        axis_x = aA[0]\n",
    "        axis_y = aA[1]\n",
    "        if axis_x == 0 or axis_y == 0 or axis_x == n or axis_y == n:\n",
    "            return True\n",
    "        return False\n",
    "\n",
    "    def onSegment(self, aA,aB,aC):\n",
    "        \n",
    "        if aB[0] <= max(aA[0], aC[0]) and aB[0] >= min(aA[0], aC[0]) and aB[1] <= max(aA[1], aC[1]) and aB[1] >= min(aA[1], aC[1]):\n",
    "            return True\n",
    "        return False\n",
    "\n",
    "    def orientation(self, p,q,r):\n",
    "\n",
    "        val = (q[1] - p[1]) * (r[0] - q[0]) - (q[0] - p[0]) * (r[1] - q[1])\n",
    "        if val == 0:\n",
    "            return 0  # colinear\n",
    "        elif val > 0:\n",
    "            return 1  # clock\n",
    "        else: \n",
    "            return 2 # counterclock wise\n",
    "\n",
    "    # The main function that returns true if line segment 'p1q1'\n",
    "    # and 'p2q2' intersect.\n",
    "    def isIntersect1(self, p1,q1,p2,q2):\n",
    "\n",
    "    #  Find the four orientations needed for general and\n",
    "    #  special cases\n",
    "        o1 = self.orientation(p1, q1, p2)\n",
    "        o2 = self.orientation(p1, q1, q2)\n",
    "        o3 = self.orientation(p2, q2, p1)\n",
    "        o4 = self.orientation(p2, q2, q1)\n",
    "    #  General case\n",
    "        if o1 != o2 and o3 != o4:\n",
    "            return True\n",
    "    #  Special Cases\n",
    "    #  p1, q1 and p2 are colinear and p2 lies on segment p1q1\n",
    "        if (o1 == 0 and self.onSegment(p1, p2, q1)): \n",
    "            return True\n",
    "    #  p1, q1 and p2 are colinear and q2 lies on segment p1q1\n",
    "        if (o2 == 0 and self.onSegment(p1, q2, q1)): \n",
    "            return True\n",
    "    #  p2, q2 and p1 are colinear and p1 lies on segment p2q2\n",
    "        if (o3 == 0 and self.onSegment(p2, p1, q2)): \n",
    "            return True\n",
    "    #  p2, q2 and q1 are colinear and q1 lies on segment p2q2\n",
    "        if (o4 == 0 and self.onSegment(p2, q1, q2)): \n",
    "            return True\n",
    "        return False\n",
    "\n",
    "\n",
    "    def xyDist(self, aA, aB):\n",
    "\n",
    "        return abs(aA[0]-aB[0]), abs(aA[1]-aB[1])\n",
    "    \n",
    "    \n",
    "    def f9(self, xa, ya, xb, yb, xp, yp, xq, yq, size):\n",
    "\n",
    "        n = size\n",
    "        A = [xa, ya]\n",
    "        B = [xb, yb]\n",
    "        P = [xp, yp]\n",
    "        Q = [xq, yq]\n",
    "        points = [A, B, P, Q]\n",
    "        pairs_same = [(A, B), (P, Q)]\n",
    "        pairs_diff = [[(A, P), (B, Q)], [(A, Q),(B, P)]]\n",
    "        axis = [xa, ya, xb, yb, xp, yp, xq, yq]\n",
    "\n",
    "        # Out of boundary\n",
    "        for x in axis:\n",
    "            if not self.isInRange(x, n):\n",
    "                return False\n",
    "\n",
    "        # Same point \n",
    "        \n",
    "#         sp_ap = isSamePoint(A, P)\n",
    "#         sp_bp = isSamePoint(B, P)\n",
    "#         sp_aq = isSamePoint(A, Q)\n",
    "#         sp_bq = isSamePoint(B, Q)\n",
    "#         sp_ab = isSamePoint(A, B)\n",
    "#         sp_pq = isSamePoint(P, Q)\n",
    "\n",
    "#         if sp_ap or sp_bp or sp_aq or sp_bq:\n",
    "#             return False # not possible without crossing Which is CROSSING\n",
    "#         elif sp_ab or sp_pq: # <1>\n",
    "#             return True\n",
    "        same_point_in_same_pair = any([self.isSamePoint(*pair) for pair in pairs_same])\n",
    "        same_point_in_diff_pair = any([self.isSamePoint(p1, p2) for p1 in pairs_same[0] for p2 in pairs_same[1]])\n",
    "        \n",
    "        if same_point_in_diff_pair:\n",
    "            return False\n",
    "        elif same_point_in_same_pair:\n",
    "            return True\n",
    "\n",
    "        ## FIRST\n",
    "        # 4 points on the boundary AND cross ==> false\n",
    "        \n",
    "#         four_on_border = True\n",
    "#         for pt in points:\n",
    "#             four_on_border = four_on_border and isOnBorder(pt)\n",
    "        \n",
    "        four_on_border = all([self.isOnBorder(pt, n) for pt in points])\n",
    "\n",
    "        if four_on_border and self.isIntersect1(A,B,P,Q):\n",
    "            return False\n",
    "        \n",
    "        ## SECOND\n",
    "        #  3 points at same corner\n",
    "        corner_case1 = [[0,0],[0,1],[1,0]]\n",
    "        corner_case2 = [[0,n],[n-1,n],[1,n]]\n",
    "        corner_case3 = [[n,0],[n,n-1],[n,1]]\n",
    "        corner_case4 = [[n,n],[n-1,n],[n,n-1]]\n",
    "        corner_case = [corner_case1, corner_case2, corner_case3, corner_case4]\n",
    "        \n",
    "#         three_on_corner = False \n",
    "        \n",
    "#         for cc in corner_case:\n",
    "#             three_on_corner = three_on_corner or all([c in points for c in cc])\n",
    "#         if three_on_corner == True:# and not(sp_ab or sp_pq): Can be included but not necessary because <1>\n",
    "#             return False\n",
    "\n",
    "        three_on_corner = any([all([c in points for c in cc]) for cc in corner_case])\n",
    "        if three_on_corner:\n",
    "            return False\n",
    "\n",
    "        ## SECOND  \n",
    "        # pair < X, Y >    = >  |X.x - Y.x| = 1, |X.y - Y.y| = 1 , where < X, Y > = < A, B > or < P, Q >\n",
    "        # not pair <W, Z>  = >  ( (W.x == Z.x and |W.y - Z.y| == 1) or (W.y == Z.y and |W.x - Z.x| == 1) ) \n",
    "        # \n",
    "        # ( (pair and not pair) AND (W.x == 0/(n) or W.y == 0/(n) or Z.x == 0/(n) or Z.y == 0/(n)) ) == > false\\\n",
    "        \n",
    "        dist_pair_same_valid = all([self.xyDist(*pair) == (1,1) for pair in pairs_same])\n",
    "        \n",
    "#         dist_pair_same_valid = True\n",
    "#         for pair in pairs_same:\n",
    "#             dist_pair_same_valid = dist_pair_same_valid and xyDist(*pair) == (1,1)\n",
    "\n",
    "        dist_pair_diff_valid = all([(self.xyDist(*pair) == (0,1) or self.xyDist(*pair) == (1,0)) for pairs in pairs_diff for pair in pairs])\n",
    "\n",
    "#         dist_pair_diff_valid = True\n",
    "#         for pairs in pairs_diff:\n",
    "#             for pair in pairs:\n",
    "#                 dist_pair_diff_valid = dist_pair_diff_valid and (xyDist(*pair) == (0,1) or xyDist(*pair) == (1,0))\n",
    "\n",
    "        one_on_border = any([self.isOnBorder(pt, n) for pt in points])\n",
    "    \n",
    "#         one_on_border = False\n",
    "#         for pt in points:\n",
    "#             one_on_border = one_on_border or isOnBorder(pt)\n",
    "\n",
    "        if dist_pair_same_valid and dist_pair_diff_valid and one_on_border:\n",
    "            return False\n",
    "\n",
    "        return True"
   ]
  },
  {
   "cell_type": "code",
   "execution_count": 46,
   "metadata": {
    "collapsed": false
   },
   "outputs": [
    {
     "name": "stdout",
     "output_type": "stream",
     "text": [
      "True\n",
      "True\n",
      "True\n",
      "True\n",
      "True\n",
      "True\n",
      "True\n",
      "True\n"
     ]
    }
   ],
   "source": [
    "a91 = [1,0,2,1,1,1,2,0, 10] # false\n",
    "a92 = [0,2,10,2,5,0,10,5, 10] # false\n",
    "a93 = [1,2,3,4,5,6,7,8, 10] # true\n",
    "a94 = [0,0, 0,0,0,0,0,0, 10] #false\n",
    "a95 = [1, 0, 0, 1, 0, 0, 0, 10, 10] #false\n",
    "a96 = [1,0,0,1,0,0,9,5, 10] # false\n",
    "a97 = [10,0, 10,1, 10,9, 2,2, 10] # false\n",
    "a98 = [1,0,0,1,0,0,0,0, 10] # true\n",
    "sol = solution()\n",
    "print (sol.f9(*a91) == False)\n",
    "print (sol.f9(*a92) == False)\n",
    "print (sol.f9(*a93) == True)\n",
    "print (sol.f9(*a94) == False)\n",
    "print (sol.f9(*a95) == False)\n",
    "print (sol.f9(*a96) == False)\n",
    "print (sol.f9(*a97) == False)\n",
    "print (sol.f9(*a98) == True)"
   ]
  },
  {
   "cell_type": "code",
   "execution_count": null,
   "metadata": {
    "collapsed": false
   },
   "outputs": [],
   "source": [
    " "
   ]
  },
  {
   "cell_type": "code",
   "execution_count": 49,
   "metadata": {
    "collapsed": false
   },
   "outputs": [
    {
     "name": "stdout",
     "output_type": "stream",
     "text": [
      "[0, 2] [3, 0]\n",
      "[1, 0]\n",
      "[[0, 0], [0, 1], [1, 0], [1, 1], [1, 2], [1, 3], [2, 0], [2, 1], [2, 2], [2, 3], [3, 1], [3, 2], [3, 3]]\n",
      "[[0, 2], [0, 3], [0, 4], [1, 4], [2, 4], [3, 0], [3, 4], [4, 0], [4, 1], [4, 2], [4, 3], [4, 4]]\n"
     ]
    }
   ],
   "source": [
    "a = [0,2]\n",
    "b = [3,0]\n",
    "c = [1,0]\n",
    "n = [4]\n",
    "print (a, b)\n",
    "print (c)\n",
    "# 1,0,2,1,1,1,2,0, 10\n",
    "true = []\n",
    "false = []\n",
    "\n",
    "\n",
    "\n",
    "def run(d):\n",
    "    a9 = [a,b,c,d,n]\n",
    "    a9_1 = [item for sublist in a9 for item in sublist]\n",
    "    if sol.f9(*a9_1):\n",
    "        true.append(d)\n",
    "    else:\n",
    "        false.append(d)\n",
    "    # print a9_1\n",
    "#     print f9(*a9_1), d\n",
    "\n",
    "for i in range(n[0]+1):\n",
    "    for j in range(n[0]+1):\n",
    "        d = [i,j]\n",
    "        run(d)\n",
    "print (true)\n",
    "print\n",
    "print (false)"
   ]
  },
  {
   "cell_type": "code",
   "execution_count": 52,
   "metadata": {
    "collapsed": false
   },
   "outputs": [
    {
     "name": "stdout",
     "output_type": "stream",
     "text": [
      "[0, 2] [3, 0]\n",
      "[1, 0]\n",
      "[[0, 0], [0, 1], [1, 0], [1, 1], [1, 2], [1, 3], [2, 0], [2, 1], [2, 2], [2, 3], [3, 1], [3, 2], [3, 3]]\n",
      "[[0, 2], [0, 3], [0, 4], [1, 4], [2, 4], [3, 0], [3, 4], [4, 0], [4, 1], [4, 2], [4, 3], [4, 4]]\n"
     ]
    }
   ],
   "source": [
    "a = [0,2]\n",
    "b = [3,0]\n",
    "c = [1,0]\n",
    "n = [4]\n",
    "print (a, b)\n",
    "print (c)\n",
    "# 1,0,2,1,1,1,2,0, 10\n",
    "true = []\n",
    "false = []\n",
    "def run(d):\n",
    "    a9 = [a,b,c,d,n]\n",
    "    a9_1 = [item for sublist in a9 for item in sublist]\n",
    "    if sol.f9(*a9_1):\n",
    "        true.append(d)\n",
    "    else:\n",
    "        false.append(d)\n",
    "    # print a9_1\n",
    "#     print f9(*a9_1), d\n",
    "\n",
    "for i in range(n[0]+1):\n",
    "    for j in range(n[0]+1):\n",
    "        d = [i,j]\n",
    "        run(d)\n",
    "print (true)\n",
    "print\n",
    "print (false)"
   ]
  },
  {
   "cell_type": "code",
   "execution_count": 54,
   "metadata": {
    "collapsed": false
   },
   "outputs": [
    {
     "name": "stdout",
     "output_type": "stream",
     "text": [
      "16\n",
      "94\n",
      "110\n"
     ]
    }
   ],
   "source": [
    "aaa = 22\n",
    "bbb = 88\n",
    "ccc = aaa & bbb\n",
    "print (ccc)\n",
    "ddd = aaa | bbb\n",
    "print (ddd)\n",
    "print (ccc + ddd)"
   ]
  },
  {
   "cell_type": "code",
   "execution_count": 2,
   "metadata": {
    "collapsed": false
   },
   "outputs": [
    {
     "name": "stdout",
     "output_type": "stream",
     "text": [
      "16\n"
     ]
    }
   ],
   "source": [
    "print (ccc)"
   ]
  },
  {
   "cell_type": "code",
   "execution_count": 56,
   "metadata": {
    "collapsed": false
   },
   "outputs": [
    {
     "name": "stdout",
     "output_type": "stream",
     "text": [
      "8050\n"
     ]
    }
   ],
   "source": [
    "x = 5\n",
    "k = 2013\n",
    "count = 0\n",
    "y = 1\n",
    "while True:\n",
    "    if x & y == 0:\n",
    "        count += 1\n",
    "    if count == k:\n",
    "        print (y)\n",
    "        break\n",
    "    y += 1"
   ]
  },
  {
   "cell_type": "code",
   "execution_count": null,
   "metadata": {
    "collapsed": true
   },
   "outputs": [],
   "source": []
  }
 ],
 "metadata": {
  "kernelspec": {
   "display_name": "python3.5",
   "language": "python",
   "name": "python3.5"
  },
  "language_info": {
   "codemirror_mode": {
    "name": "ipython",
    "version": 3
   },
   "file_extension": ".py",
   "mimetype": "text/x-python",
   "name": "python",
   "nbconvert_exporter": "python",
   "pygments_lexer": "ipython3",
   "version": "3.5.3"
  }
 },
 "nbformat": 4,
 "nbformat_minor": 0
}
